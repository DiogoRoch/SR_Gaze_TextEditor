{
 "cells": [
  {
   "cell_type": "code",
   "execution_count": 1,
   "metadata": {},
   "outputs": [],
   "source": [
    "import os\n",
    "import speech_recognition as sr\n",
    "import soundfile as sf\n",
    "import sounddevice as sd"
   ]
  },
  {
   "cell_type": "code",
   "execution_count": 2,
   "metadata": {},
   "outputs": [],
   "source": [
    "CUE_IN_PATH = \"./data/cue_intro.wav\"\n",
    "CUE_OUT_PATH = \"./data/cue_outro.wav\"\n",
    "SYNC_FILE = \"./data/cloudsync.wav\""
   ]
  },
  {
   "cell_type": "code",
   "execution_count": 3,
   "metadata": {},
   "outputs": [],
   "source": [
    "def play_sound(filename):\n",
    "\n",
    "    data, samplerate = sf.read(filename)\n",
    "    sd.play(data, samplerate)\n",
    "\n",
    "def recognize_command(rec_text, keywords):\n",
    "    \"\"\"\n",
    "    This method splits the recognized text into the first word and the rest\n",
    "    It then cleans the first word and stores it as self.command and stores the rest of the text as self.content\n",
    "    \"\"\"\n",
    "    rec_text = rec_text.lstrip()\n",
    "    split_text = rec_text.split(\" \")\n",
    "    command, content = \"\", \"\"\n",
    "\n",
    "    if len(split_text) > 1:\n",
    "        \n",
    "        for word in split_text:\n",
    "            formatted_word = \"\".join(letter for letter in word if letter.isalnum())\n",
    "            formatted_word = formatted_word.lower()\n",
    "            if formatted_word in keywords:\n",
    "                command = formatted_word\n",
    "                content = \" \".join(split_text[split_text.index(word) + 1:])\n",
    "                print('Command: ', command)\n",
    "                print('Content: ', content)\n",
    "                break\n",
    "    \n",
    "    else:\n",
    "        command = \"\".join(letter for letter in split_text[0] if letter.isalnum())\n",
    "        command = command.lower()\n",
    "\n",
    "    if command in keywords:\n",
    "\n",
    "        rec_command = command\n",
    "\n",
    "        if len(split_text) > 1:\n",
    "            rec_content = content\n",
    "        else:\n",
    "            rec_content = ''\n",
    "\n",
    "        print(f\"Command [{command}] successfully recognized !\")\n",
    "        return rec_command, rec_content\n",
    "\n",
    "    else:\n",
    "        print(f\"Command [{command}] was not recognized\")\n",
    "        return 'none', ''"
   ]
  },
  {
   "cell_type": "code",
   "execution_count": 4,
   "metadata": {},
   "outputs": [],
   "source": [
    "microphone = sr.Microphone()\n",
    "recognizer = sr.Recognizer()\n",
    "keywords = [\"insert\", \"delete\", \"type\", \"select\", \"click\", \"strong\", \"italic\"]"
   ]
  },
  {
   "cell_type": "code",
   "execution_count": 5,
   "metadata": {},
   "outputs": [
    {
     "name": "stdout",
     "output_type": "stream",
     "text": [
      "Calibrating...\n",
      "...Done\n",
      "Say something...\n",
      "Whisper thinks you said:  Hello computer, please type Strip.\n",
      "Command:  type\n",
      "Content:  Strip.\n",
      "Command [type] successfully recognized !\n",
      "type Strip.\n"
     ]
    }
   ],
   "source": [
    "with microphone as source:\n",
    "\n",
    "    # Calibrate recognizer\n",
    "    print('Calibrating...')\n",
    "    recognizer.adjust_for_ambient_noise(source)\n",
    "    print('...Done')\n",
    "\n",
    "    play_sound(CUE_IN_PATH)\n",
    "    print(\"Say something...\")\n",
    "    audio = recognizer.listen(source)\n",
    "\n",
    "try:\n",
    "    recognized_text = recognizer.recognize_whisper(audio, language='english')\n",
    "    print(f\"Whisper thinks you said: {recognized_text}\")\n",
    "    play_sound(CUE_OUT_PATH)\n",
    "    command, content = recognize_command(recognized_text, keywords)\n",
    "    print(command, content)\n",
    "except sr.UnknownValueError:\n",
    "    print('Speech recognition could not understand audio')\n",
    "except sr.RequestError as e:\n",
    "    print(f\"Speech recognition error: {e}\")"
   ]
  }
 ],
 "metadata": {
  "kernelspec": {
   "display_name": ".venv",
   "language": "python",
   "name": "python3"
  },
  "language_info": {
   "codemirror_mode": {
    "name": "ipython",
    "version": 3
   },
   "file_extension": ".py",
   "mimetype": "text/x-python",
   "name": "python",
   "nbconvert_exporter": "python",
   "pygments_lexer": "ipython3",
   "version": "3.11.8"
  }
 },
 "nbformat": 4,
 "nbformat_minor": 2
}
