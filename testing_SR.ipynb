{
 "cells": [
  {
   "cell_type": "code",
   "execution_count": 1,
   "metadata": {},
   "outputs": [],
   "source": [
    "import os\n",
    "import speech_recognition as sr\n",
    "import soundfile as sf\n",
    "import sounddevice as sd"
   ]
  },
  {
   "cell_type": "code",
   "execution_count": 2,
   "metadata": {},
   "outputs": [],
   "source": [
    "CUE_IN_PATH = \"./data/cue_intro.wav\"\n",
    "CUE_OUT_PATH = \"./data/cue_outro.wav\"\n",
    "ERROR_PATH = \"./data/error.wav\""
   ]
  },
  {
   "cell_type": "code",
   "execution_count": 18,
   "metadata": {},
   "outputs": [],
   "source": [
    "def play_sound(filename):\n",
    "\n",
    "    data, samplerate = sf.read(filename)\n",
    "    sd.play(data, samplerate)\n",
    "\n",
    "def recognize_command(rec_text, keywords):\n",
    "    \"\"\"\n",
    "    This method goes through all words of the recognized text checks if they're in the keywords and \n",
    "    if true it returns it as the command and the rest of the text as the content\n",
    "    \"\"\"\n",
    "    rec_text = rec_text.lstrip()\n",
    "    split_text = rec_text.split(\" \")\n",
    "    commands = []\n",
    "        \n",
    "    for word in split_text:\n",
    "\n",
    "        formatted_word = \"\".join(letter for letter in word if letter.isalnum())\n",
    "        formatted_word = formatted_word.lower()\n",
    "        \n",
    "        if formatted_word in keywords:\n",
    "            command = formatted_word\n",
    "            commands.append(command)\n",
    "            if len(split_text) > 1:\n",
    "                content = \" \".join(split_text[split_text.index(word) + 1:]).capitalize()\n",
    "            else:\n",
    "                content = \"\"\n",
    "            #print('Command: ', command)\n",
    "            #print('Content: ', content)\n",
    "            if formatted_word == 'type':\n",
    "                break\n",
    "\n",
    "    if commands:\n",
    "\n",
    "        rec_command = commands\n",
    "        rec_content = content\n",
    "\n",
    "        print(f\"Commands detected: {commands}\")\n",
    "        return rec_command, rec_content\n",
    "\n",
    "    else:\n",
    "        print(f\"No command detected!\")\n",
    "        play_sound(ERROR_PATH)\n",
    "        return 'none', ''"
   ]
  },
  {
   "cell_type": "code",
   "execution_count": 19,
   "metadata": {},
   "outputs": [],
   "source": [
    "microphone = sr.Microphone()\n",
    "recognizer = sr.Recognizer()\n",
    "keywords = [\"insert\", \"delete\", \"type\", \"select\", \"click\", \"strong\", \"italic\"]"
   ]
  },
  {
   "cell_type": "code",
   "execution_count": 22,
   "metadata": {},
   "outputs": [
    {
     "name": "stdout",
     "output_type": "stream",
     "text": [
      "Calibrating...\n",
      "...Done\n",
      "Say something...\n",
      "Whisper thinks you said:  Hello computer, please make the text strong and italic.\n",
      "Commands detected: ['strong', 'italic']\n",
      "['strong', 'italic'] \n"
     ]
    }
   ],
   "source": [
    "with microphone as source:\n",
    "\n",
    "    # Calibrate recognizer\n",
    "    print('Calibrating...')\n",
    "    recognizer.adjust_for_ambient_noise(source)\n",
    "    print('...Done')\n",
    "\n",
    "    play_sound(CUE_IN_PATH)\n",
    "    print(\"Say something...\")\n",
    "    audio = recognizer.listen(source)\n",
    "\n",
    "try:\n",
    "    recognized_text = recognizer.recognize_whisper(audio, language='english')\n",
    "    print(f\"Whisper thinks you said: {recognized_text}\")\n",
    "    play_sound(CUE_OUT_PATH)\n",
    "    command, content = recognize_command(recognized_text, keywords)\n",
    "    print(command, content)\n",
    "except sr.UnknownValueError:\n",
    "    print('Speech recognition could not understand audio')\n",
    "except sr.RequestError as e:\n",
    "    print(f\"Speech recognition error: {e}\")"
   ]
  },
  {
   "cell_type": "code",
   "execution_count": null,
   "metadata": {},
   "outputs": [],
   "source": []
  }
 ],
 "metadata": {
  "kernelspec": {
   "display_name": ".venv",
   "language": "python",
   "name": "python3"
  },
  "language_info": {
   "codemirror_mode": {
    "name": "ipython",
    "version": 3
   },
   "file_extension": ".py",
   "mimetype": "text/x-python",
   "name": "python",
   "nbconvert_exporter": "python",
   "pygments_lexer": "ipython3",
   "version": "3.11.8"
  }
 },
 "nbformat": 4,
 "nbformat_minor": 2
}
